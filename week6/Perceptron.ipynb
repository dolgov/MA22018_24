{
 "cells": [
  {
   "cell_type": "markdown",
   "id": "5608450c-b76b-4e51-b88d-e2ce754866e9",
   "metadata": {},
   "source": [
    "**Example 4.8.** Classify emails represented by the following binary term-to-document vectors as \"spam\" and \"not spam\":\n",
    "\n",
    "|                     | \"and\" | \"offer\" | \"the\" | \"of\" | \"sale\" | $y_i$           |\n",
    "| -                   |  -    |       - | -     |  -   |  -     |  -              |\n",
    "|                     |       |         |       |      |        |                 |\n",
    "| $\\mathbf{\\hat x}_1$ | 1     | 1       | 0     | 1    | 1      | $+1$ (spam)     |\n",
    "| $\\mathbf{\\hat x}_2$ | 0     | 0       | 1     | 1    | 0      | $-1$ (not spam) |\n",
    "| $\\mathbf{\\hat x}_3$ | 0     | 1       | 1     | 0    | 0      | $+1$ (spam)     |\n",
    "| $\\mathbf{\\hat x}_4$ | 1     | 0       | 0     | 1    | 0      | $-1$ (not spam) |\n",
    "|                     |       |         |       |      |        |                 |  \n",
    "| $\\mathbf{\\hat x}_5$ | 1     | 0       | 1     | 0    | 1      | $+1$ (spam)     |\n",
    "| $\\mathbf{\\hat x}_6$ | 1     | 0       | 1     | 1    | 0      | $-1$ (not spam) |\n"
   ]
  },
  {
   "cell_type": "code",
   "execution_count": 2,
   "id": "aeffefb3-f6b3-4612-85a4-23b537727436",
   "metadata": {},
   "outputs": [
    {
     "data": {
      "text/plain": [
       "array([[1, 1, 1, 0, 1, 1],\n",
       "       [1, 0, 0, 1, 1, 0],\n",
       "       [1, 0, 1, 1, 0, 0],\n",
       "       [1, 1, 0, 0, 1, 0],\n",
       "       [1, 1, 0, 1, 0, 1],\n",
       "       [1, 1, 0, 1, 1, 0]])"
      ]
     },
     "execution_count": 2,
     "metadata": {},
     "output_type": "execute_result"
    }
   ],
   "source": [
    "import numpy as np\n",
    "#               AND OFFER THE  OF SALE\n",
    "Xh = np.array([[ 1 ,  1 ,  0 , 1 , 1],   # x_1   spam\n",
    "               [ 0 ,  0 ,  1 , 1 , 0],   # x_2   not spam\n",
    "               [ 0 ,  1 ,  1 , 0 , 0],   # x_3   spam\n",
    "               [ 1 ,  0 ,  0 , 1 , 0],   # x_4   not spam\n",
    "               [ 1 ,  0 ,  1 , 0 , 1],   # x_5   spam\n",
    "               [ 1 ,  0 ,  1 , 1 , 0]    # x_6   not spam\n",
    "             ])\n",
    "y = np.array([1,-1,1,-1,1,-1])\n",
    "X = np.insert(Xh, 0, 1.0, axis=1) # Affine -> Homogeneous form\n",
    "X"
   ]
  },
  {
   "cell_type": "code",
   "execution_count": 3,
   "id": "0eb789ac-315b-4c4c-a250-6362fc33a038",
   "metadata": {},
   "outputs": [],
   "source": [
    "def Perceptron(X,y,K=100):\n",
    "    theta = np.zeros(X.shape[1])\n",
    "    k = 0\n",
    "    while(k<K):\n",
    "        for i in range(y.size):\n",
    "            if y[i] * np.dot(X[i], theta) <= 0:\n",
    "                k += 1\n",
    "                theta += y[i] * X[i]\n",
    "                print(k)\n",
    "        if np.all(y * (X @ theta) > 0):\n",
    "            break\n",
    "    return theta"
   ]
  },
  {
   "cell_type": "code",
   "execution_count": 8,
   "id": "deff8aaa-8e32-4ece-8a32-ab799dade65c",
   "metadata": {},
   "outputs": [
    {
     "name": "stdout",
     "output_type": "stream",
     "text": [
      "1\n",
      "2\n",
      "3\n",
      "4\n"
     ]
    },
    {
     "data": {
      "text/plain": [
       "array([ 0.,  0.,  2.,  0., -1.,  1.])"
      ]
     },
     "execution_count": 8,
     "metadata": {},
     "output_type": "execute_result"
    }
   ],
   "source": [
    "theta = Perceptron(X[:4],y[:4])\n",
    "theta"
   ]
  },
  {
   "cell_type": "code",
   "execution_count": 9,
   "id": "afb81784-7b7a-4cd7-9ce4-2bd224e38e8c",
   "metadata": {},
   "outputs": [
    {
     "data": {
      "text/plain": [
       "array([0., 0., 0., 0., 0., 0.])"
      ]
     },
     "execution_count": 9,
     "metadata": {},
     "output_type": "execute_result"
    }
   ],
   "source": [
    "np.sign(X @ theta) - y"
   ]
  }
 ],
 "metadata": {
  "kernelspec": {
   "display_name": "Python 3 (ipykernel)",
   "language": "python",
   "name": "python3"
  },
  "language_info": {
   "codemirror_mode": {
    "name": "ipython",
    "version": 3
   },
   "file_extension": ".py",
   "mimetype": "text/x-python",
   "name": "python",
   "nbconvert_exporter": "python",
   "pygments_lexer": "ipython3",
   "version": "3.11.9"
  }
 },
 "nbformat": 4,
 "nbformat_minor": 5
}
