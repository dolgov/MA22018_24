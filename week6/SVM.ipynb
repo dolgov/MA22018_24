{
 "cells": [
  {
   "cell_type": "code",
   "execution_count": 3,
   "id": "312e0879-68b0-49ed-9e8e-43ca5432dccb",
   "metadata": {},
   "outputs": [
    {
     "data": {
      "text/plain": [
       "array([[1, 1, 1, 0, 1, 1],\n",
       "       [1, 0, 0, 1, 1, 0],\n",
       "       [1, 0, 1, 1, 0, 0],\n",
       "       [1, 1, 0, 0, 1, 0],\n",
       "       [1, 1, 0, 1, 0, 1],\n",
       "       [1, 1, 0, 1, 1, 0]])"
      ]
     },
     "execution_count": 3,
     "metadata": {},
     "output_type": "execute_result"
    }
   ],
   "source": [
    "import numpy as np\n",
    "#               AND OFFER THE  OF SALE\n",
    "Xh = np.array([[ 1 ,  1 ,  0 , 1 , 1],   # x_1   spam\n",
    "               [ 0 ,  0 ,  1 , 1 , 0],   # x_2   not spam\n",
    "               [ 0 ,  1 ,  1 , 0 , 0],   # x_3   spam\n",
    "               [ 1 ,  0 ,  0 , 1 , 0],   # x_4   not spam\n",
    "               [ 1 ,  0 ,  1 , 0 , 1],   # x_5   spam\n",
    "               [ 1 ,  0 ,  1 , 1 , 0]    # x_6   not spam\n",
    "             ])\n",
    "y = np.array([1,-1,1,-1,1,-1])\n",
    "X = np.insert(Xh, 0, 1.0, axis=1) # Affine -> Homogeneous form\n",
    "X"
   ]
  },
  {
   "cell_type": "code",
   "execution_count": 9,
   "id": "0cb8c9af-88d0-4322-9211-13c6943b8f48",
   "metadata": {},
   "outputs": [
    {
     "data": {
      "text/plain": [
       "array([[ 0.  ,  0.  ,  0.02,  0.  , -0.01,  0.01]])"
      ]
     },
     "execution_count": 9,
     "metadata": {},
     "output_type": "execute_result"
    }
   ],
   "source": [
    "from sklearn.svm import SVC\n",
    "\n",
    "c = SVC(kernel='linear', C=0.01)\n",
    "c.fit(X[:4], y[:4])\n",
    "\n",
    "c.coef_"
   ]
  }
 ],
 "metadata": {
  "kernelspec": {
   "display_name": "Python 3 (ipykernel)",
   "language": "python",
   "name": "python3"
  },
  "language_info": {
   "codemirror_mode": {
    "name": "ipython",
    "version": 3
   },
   "file_extension": ".py",
   "mimetype": "text/x-python",
   "name": "python",
   "nbconvert_exporter": "python",
   "pygments_lexer": "ipython3",
   "version": "3.11.9"
  }
 },
 "nbformat": 4,
 "nbformat_minor": 5
}
