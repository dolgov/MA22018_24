{
 "cells": [
  {
   "cell_type": "code",
   "execution_count": 1,
   "id": "8b676a64-3e17-40ad-a451-a4e08c6ffe10",
   "metadata": {},
   "outputs": [],
   "source": [
    "import numpy as np\n",
    "\n",
    "# Example 2.2: a toy snippet from Shakespeare\n",
    "docs = ['Anthony and Cleopatra Brutus Caesar romans worser',\n",
    "        'Caesar Anthony Brutus Calpurnia romans',\n",
    "        'The worser',\n",
    "        'Brutus Caesar romans worser',\n",
    "        'Caesar worser',\n",
    "        'Anthony Caesar'\n",
    "       ]"
   ]
  }
 ],
 "metadata": {
  "kernelspec": {
   "display_name": "Python 3 (ipykernel)",
   "language": "python",
   "name": "python3"
  },
  "language_info": {
   "codemirror_mode": {
    "name": "ipython",
    "version": 3
   },
   "file_extension": ".py",
   "mimetype": "text/x-python",
   "name": "python",
   "nbconvert_exporter": "python",
   "pygments_lexer": "ipython3",
   "version": "3.11.9"
  }
 },
 "nbformat": 4,
 "nbformat_minor": 5
}
