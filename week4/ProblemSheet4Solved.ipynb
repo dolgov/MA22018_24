{
 "cells": [
  {
   "cell_type": "markdown",
   "id": "d2a4a5fa",
   "metadata": {},
   "source": [
    "# Problem Sheet 4\n",
    "- To be completed by **12noon** on **Wednesday 30th October** and uploaded to [Problem Sheet 4 submission point](https://moodle.bath.ac.uk/mod/assign/view.php?id=1379919) on Moodle.\n",
    "\n",
    "## Clustering of text documents\n",
    "\n",
    "In this problem sheet we consider clustering algorithms and their application to text data."
   ]
  },
  {
   "cell_type": "markdown",
   "id": "3deb8c2a",
   "metadata": {},
   "source": [
    "## Task (a) (Warm-up): centroid with respect to Euclidean distance\n",
    "\n",
    "Let $C$ be a set of vectors $\\mathbf{x} \\in \\mathbb{R}^n$. \n",
    "\n",
    "- **Prove** that the vector\n",
    "$$\n",
    "\\boldsymbol\\mu = \\frac{1}{|C|} \\sum_{\\mathbf{x} \\in C} \\mathbf{x}\n",
    "$$\n",
    "(where $|C|$ is the cardinality of $C$) minimises the so-called _centroid_ loss $L(\\boldsymbol\\mu) := \\sum_{\\mathbf{x} \\in C} \\|\\mathbf{x}-\\boldsymbol\\mu\\|_2^2$."
   ]
  },
  {
   "cell_type": "markdown",
   "id": "a628a274",
   "metadata": {},
   "source": [
    "## Solution:\n",
    "Writing $L$ componentwise, assuming $\\mathbf{x}=(x_1,\\ldots,x_n)$ and $\\boldsymbol\\mu=(\\mu_1,\\ldots,\\mu_n)$,\n",
    "$$\n",
    "L(\\boldsymbol\\mu) = \\sum_{\\mathbf{x}\\in C} \\|\\mathbf{x} - \\boldsymbol\\mu\\|_2^2 = \\sum_{\\mathbf{x}\\in C} \\sum_{j=1}^n (x_j - \\mu_j)^2 = \\sum_{j=1}^n \\underbrace{\\sum_{\\mathbf{x}\\in C} (x_j - \\mu_j)^2}_{L_j(\\mu_j)},\n",
    "$$\n",
    "we can minimise each component $L_j(\\mu_j)$ independently by taking its derivative to zero,\n",
    "$$\n",
    "\\frac{d L_j}{d \\mu_j} = \\sum_{\\mathbf{x}\\in C} \\left[2 (x_j - \\mu_j)\\right] = 2 \\sum_{\\mathbf{x}\\in C} x_j - 2\\sum_{\\mathbf{x}\\in C} \\mu_j = 2 \\sum_{\\mathbf{x}\\in C} x_j - 2 |C| \\mu_j = 0.\n",
    "$$\n",
    "Solving this we get $\\mu_{j} = \\frac{1}{|C|} \\sum_{\\mathbf{x}\\in C} x_j$ for the elements of the centroid $\\boldsymbol\\mu = (\\mu_{1},\\ldots,\\mu_{n})$, as requested."
   ]
  },
  {
   "cell_type": "markdown",
   "id": "04d14bda",
   "metadata": {},
   "source": [
    "## Task (b): K-means with cosine similarity score\n",
    "\n",
    "- **Prove** that if $\\|\\mathbf{x}\\|_2=\\|\\boldsymbol\\mu\\|_2=1$ $\\forall \\mathbf{x},\\boldsymbol\\mu \\in \\mathbb{R}^n$, then \n",
    "$$\n",
    "\\|\\mathbf{x} - \\boldsymbol\\mu\\|_2^2 = 2 - 2\\cos\\angle(\\mathbf{x},\\boldsymbol\\mu).\n",
    "$$\n",
    "\n",
    "_Hint: expand $\\|\\mathbf{x} - \\boldsymbol\\mu\\|_2^2$ using inner products of vectors._\n",
    "\n",
    "**Remark**: therefore, lower Euclidean distance is equivalent to higher cosine score, and the standard K-means algorithm with Euclidean distance can be used if term-to-document vectors are produced with `TfidfVectorizer`."
   ]
  },
  {
   "cell_type": "markdown",
   "id": "791540cd",
   "metadata": {},
   "source": [
    "## Solution:\n",
    "$$\n",
    "\\|\\mathbf{x} - \\boldsymbol\\mu\\|_2^2 = \\langle \\mathbf{x} - \\boldsymbol\\mu, \\mathbf{x} - \\boldsymbol\\mu \\rangle = \\|\\mathbf{x}\\|_2^2 - 2 \\langle \\mathbf{x}, \\boldsymbol\\mu \\rangle + \\|\\boldsymbol\\mu\\|_2^2 = 2 - 2\\langle \\mathbf{x}, \\boldsymbol\\mu \\rangle = 2 - 2 \\frac{\\langle \\mathbf{x}, \\boldsymbol\\mu \\rangle}{\\|\\mathbf{x}\\|_2 \\|\\boldsymbol\\mu\\|_2} = 2 - 2\\cos\\angle(\\mathbf{x},\\boldsymbol\\mu).\n",
    "$$"
   ]
  },
  {
   "cell_type": "markdown",
   "id": "867b05ff",
   "metadata": {},
   "source": [
    "---"
   ]
  },
  {
   "cell_type": "markdown",
   "id": "e717fd30",
   "metadata": {},
   "source": [
    "## Task 1 (Warm-up)\n",
    "**Write** (or borrow) a Python **code** to apply the K-means algorithm (with $K=2$) with the Euclidean distance function to the following term-to-document matrix:\n",
    "$$\n",
    "X = \\begin{bmatrix}\n",
    "     1 & 1 & 0 & 0 & 1 \\\\\n",
    "     0 & 1 & 1 & 0 & 1 \\\\\n",
    "     0 & 0 & 0 & 1 & 1\n",
    "    \\end{bmatrix}.\n",
    "$$"
   ]
  },
  {
   "cell_type": "code",
   "execution_count": 1,
   "id": "b1beb7df",
   "metadata": {},
   "outputs": [
    {
     "data": {
      "text/plain": [
       "array([0, 0, 1], dtype=int32)"
      ]
     },
     "execution_count": 1,
     "metadata": {},
     "output_type": "execute_result"
    }
   ],
   "source": [
    "import numpy as np\n",
    "from sklearn.cluster import KMeans\n",
    "X = np.array([[1,1,0,0,1], [0,1,1,0,1], [0,0,0,1,1]])\n",
    "kmeans = KMeans(n_clusters=2, n_init='auto')\n",
    "kvec = kmeans.fit_predict(X)\n",
    "kvec"
   ]
  },
  {
   "cell_type": "markdown",
   "id": "fd58c5c9",
   "metadata": {},
   "source": [
    "## Task 2: Information retrieval of Bath Pages\n",
    "\n",
    "Write a Python code which:\n",
    "- Loads the Bath website text data from `BathPages.npz` (if you don't see it in the `week4` folder on Noteable, remember to run the `Update` notebook).\n",
    "- Computes its TF $\\cdot$ IDF term-to-document matrix with the 2-norm of each row equal 1 as required in Task (b)."
   ]
  },
  {
   "cell_type": "code",
   "execution_count": 2,
   "id": "03b04b55",
   "metadata": {},
   "outputs": [],
   "source": [
    "import numpy as np\n",
    "D = np.load('BathPages.npz')\n",
    "titles = D[\"titles\"]\n",
    "docs = D[\"docs\"]\n",
    "\n",
    "from sklearn.feature_extraction.text import TfidfVectorizer\n",
    "tv = TfidfVectorizer(stop_words='english')\n",
    "X = tv.fit_transform(docs).toarray()"
   ]
  },
  {
   "cell_type": "markdown",
   "id": "38046651",
   "metadata": {},
   "source": [
    "## Task 3: K-means clustering of Bath pages\n",
    "\n",
    "- **Write** a Python **code** that:\n",
    "  - varies the number of clusters $K$ from 2 to 20 (inclusive);\n",
    "  - for each $K$ runs the $K$-means algorithm 10 times to clusterise the rows of the TF $\\cdot$ IDF term-to-document matrix from Task 2 and compute the $K$-means loss of that clustering;\n",
    "  - once both loops are complete, plots the $K$-means loss as a function of $K$ for each of the 10 runs on the same plot. Keep in mind that $K$ is a discrete variable.\n",
    "\n",
    "- **Find** an elbow point on the $K$-means loss plot. Use your own judgement to decide which number of clusters $K^*$ is a reasonable elbow point.\n",
    "- **Print** the titles of Bath Pages in each of the $K^*$ clusters."
   ]
  },
  {
   "cell_type": "code",
   "execution_count": 3,
   "id": "bb7e50d5",
   "metadata": {},
   "outputs": [
    {
     "data": {
      "image/png": "[encoded data removed]",
      "text/plain": [
       "<Figure size 640x480 with 1 Axes>"
      ]
     },
     "metadata": {},
     "output_type": "display_data"
    }
   ],
   "source": [
    "from sklearn.cluster import KMeans\n",
    "from matplotlib import pyplot as plt\n",
    "\n",
    "nruns = 10\n",
    "S = []\n",
    "losses = []\n",
    "kvecs = []\n",
    "for K in range(2,21):\n",
    "    lossK = []\n",
    "    for i in range(nruns):\n",
    "        kmeans = KMeans(n_clusters=K, n_init='auto')\n",
    "        kvec = kmeans.fit_predict(X)\n",
    "        lossK.append(kmeans.inertia_)\n",
    "    kvecs.append(kvec)\n",
    "    losses.append(lossK)\n",
    "\n",
    "losses = np.array(losses)\n",
    "plt.plot(np.arange(2,losses.shape[0]+2), losses, '.')\n",
    "plt.xlabel(\"$K$\")\n",
    "plt.title(\"$L(C_1,...,C_K)$\")\n",
    "plt.show()"
   ]
  },
  {
   "cell_type": "markdown",
   "id": "ef13de04",
   "metadata": {},
   "source": [
    "## Solution:\n",
    "\n",
    "There is no clear elbow point. There is only a slight flattening around $K^*=9$ or $10$. We can also use the point of least variability across the runs, which is also for $K^*$ from $8$ to $11$."
   ]
  },
  {
   "cell_type": "code",
   "execution_count": 4,
   "id": "c785b290",
   "metadata": {},
   "outputs": [
    {
     "name": "stdout",
     "output_type": "stream",
     "text": [
      "Cluster 0:\n",
      "['Clevelands Building accommodation block' 'East Building'\n",
      " 'Thornbank Gardens accommodation complex'\n",
      " 'Canal Wharf accommodation complex' \"The Chancellors' Building\"]\n",
      "Cluster 1:\n",
      "['The Market' 'Lime Tree' 'Fountain Canteen' 'Sports Café' 'Post Office'\n",
      " 'The Pitstop' 'Fresh' 'Chaplaincy Centre' 'Departmental Mail Services'\n",
      " '4W Café' \"Students' Union\" 'Parade' 'University Medical Centre'\n",
      " 'The Bath Bakeaway' 'Claverton Rooms']\n",
      "Cluster 2:\n",
      "['Central Postgraduate Taught Admissions team' '4 West'\n",
      " 'Westwood accommodation complex' 'The Quads accommodation complex'\n",
      " 'Eastwood accommodation complex' '1 West' 'Polden accommodation block'\n",
      " '10 West' 'Cotswold House']\n",
      "Cluster 3:\n",
      "['Choose your postgraduate student accommodation options'\n",
      " 'Pulteney Court student accommodation' 'Polden student accommodation'\n",
      " 'Thornbank Gardens student accommodation'\n",
      " 'Centurion House student accommodation'\n",
      " 'Choose your undergraduate student accommodation options'\n",
      " 'Woodland Court student accommodation'\n",
      " 'Canal Wharf student accommodation' 'The Quads student accommodation'\n",
      " 'Clevelands Building student accommodation' 'Postgraduate Living'\n",
      " 'Carpenter House student accommodation'\n",
      " 'Eastwood Terrace student accommodation'\n",
      " 'Marlborough Court and Solsbury Court student accommodation'\n",
      " 'Eastwood Green student accommodation']\n",
      "Cluster 4:\n",
      "['University of Bath, Claverton Down campus' 'East Car Park Overflow'\n",
      " 'Bath Assembly Rooms' 'West Car Park' 'East Car Park' 'South Car Park'\n",
      " 'North Car Park']\n",
      "Cluster 5:\n",
      "['Staff landing page' 'Academic Registry'\n",
      " 'Guidance and forms for doctoral students'\n",
      " 'Academic Administration Calendar' 'Child protection and safeguarding'\n",
      " 'Legal Advisers'\n",
      " 'International travel for staff and students on University business'\n",
      " 'Information security' 'Public Interest Disclosure (whistleblowing)'\n",
      " 'Individual Mitigating Circumstances (IMCs)'\n",
      " 'Individual Mitigating Circumstances & Assessment (IMCA): Principles & Procedures'\n",
      " 'Student Support at The Roper Centre' 'The Skills Zone'\n",
      " 'Insurance Services'\n",
      " 'Institute for Sustainable Energy and the Environment (I-SEE)']\n",
      "Cluster 6:\n",
      "['Green Park House student accommodation'\n",
      " 'Osborne House accommodation block' 'City Accommodation Centre'\n",
      " 'Green Park House' 'Norwood House accommodation block'\n",
      " 'Carpenter House accommodation complex']\n",
      "Cluster 7:\n",
      "['The Edge' 'Faculty of Engineering & Design Student Centre'\n",
      " '4 East South' 'West Accommodation Centre' 'Careers Service'\n",
      " 'Sports Training Village (STV)' 'The Virgil Building'\n",
      " 'University of Bath Dental Centre' 'Norwood House Study Space'\n",
      " 'IT Service Desk' 'Imaging, Design, and Print Services']\n",
      "Cluster 8:\n",
      "['Esther Parkin Residence' 'Polden Court accommodation block'\n",
      " 'Woodland Court accommodation complex'\n",
      " 'John Wood Building accommodation block'\n",
      " 'Marlborough Court and Solsbury Court accommodation complex'\n",
      " 'Pulteney Court accommodation complex'\n",
      " 'John Wood Court accommodation block' 'Brendon Court accommodation block']\n",
      "Cluster 9:\n",
      "['Amazon Locker' 'Admissions Office' '6 West South' 'Campus bus terminus'\n",
      " 'Assistive Technology Room' 'The Library' '10 West Graduate Commons']\n"
     ]
    }
   ],
   "source": [
    "Kstar = 10\n",
    "kvec = kvecs[Kstar-2]\n",
    "for i in range(np.max(kvec)+1):\n",
    "    print(f\"Cluster {i}:\")\n",
    "    print(titles[kvec==i])"
   ]
  }
 ],
 "metadata": {
  "kernelspec": {
   "display_name": "base",
   "language": "python",
   "name": "python3"
  },
  "language_info": {
   "codemirror_mode": {
    "name": "ipython",
    "version": 3
   },
   "file_extension": ".py",
   "mimetype": "text/x-python",
   "name": "python",
   "nbconvert_exporter": "python",
   "pygments_lexer": "ipython3",
   "version": "3.12.4"
  }
 },
 "nbformat": 4,
 "nbformat_minor": 5
}
