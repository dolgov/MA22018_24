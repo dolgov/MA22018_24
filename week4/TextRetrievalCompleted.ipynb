{
 "cells": [
  {
   "cell_type": "code",
   "execution_count": 1,
   "id": "8b676a64-3e17-40ad-a451-a4e08c6ffe10",
   "metadata": {},
   "outputs": [],
   "source": [
    "import numpy as np\n",
    "\n",
    "# Example 2.2: a toy snippet from Shakespeare\n",
    "docs = ['Anthony and Cleopatra Brutus Caesar romans worser',\n",
    "        'Caesar Anthony Brutus Calpurnia romans',\n",
    "        'The worser',\n",
    "        'Brutus Caesar romans worser',\n",
    "        'Caesar worser',\n",
    "        'Anthony Caesar'\n",
    "       ]"
   ]
  },
  {
   "cell_type": "code",
   "execution_count": 2,
   "id": "1fe2c80a-60e0-4a11-bd77-e733703f6412",
   "metadata": {},
   "outputs": [
    {
     "data": {
      "text/plain": [
       "array([[1, 1, 1, 0, 1, 1, 1],\n",
       "       [1, 1, 1, 1, 0, 1, 0],\n",
       "       [0, 0, 0, 0, 0, 0, 1],\n",
       "       [0, 1, 1, 0, 0, 1, 1],\n",
       "       [0, 0, 1, 0, 0, 0, 1],\n",
       "       [1, 0, 1, 0, 0, 0, 0]])"
      ]
     },
     "execution_count": 2,
     "metadata": {},
     "output_type": "execute_result"
    }
   ],
   "source": [
    "from sklearn.feature_extraction.text import CountVectorizer\n",
    "\n",
    "cv = CountVectorizer(binary=True, stop_words='english')\n",
    "B = cv.fit_transform(docs).toarray() # Binary t-t-d matrix\n",
    "B"
   ]
  },
  {
   "cell_type": "code",
   "execution_count": 3,
   "id": "88fee143-a300-48c4-893f-08072af0fe51",
   "metadata": {},
   "outputs": [
    {
     "data": {
      "text/plain": [
       "array(['anthony', 'brutus', 'caesar', 'calpurnia', 'cleopatra', 'romans',\n",
       "       'worser'], dtype=object)"
      ]
     },
     "execution_count": 3,
     "metadata": {},
     "output_type": "execute_result"
    }
   ],
   "source": [
    "cv.get_feature_names_out()"
   ]
  },
  {
   "cell_type": "code",
   "execution_count": 4,
   "id": "2540d885-3964-498e-b775-e664b655af5e",
   "metadata": {},
   "outputs": [
    {
     "data": {
      "text/plain": [
       "array([1, 1, 0, 1, 0, 0])"
      ]
     },
     "execution_count": 4,
     "metadata": {},
     "output_type": "execute_result"
    }
   ],
   "source": [
    "B[:,2] & B[:,5] # Boolean retrieval: which documents contain 2nd and 5th terms?"
   ]
  },
  {
   "cell_type": "code",
   "execution_count": 5,
   "id": "a2a9f0cf-20e5-4f91-bf4a-7786fcec0d8b",
   "metadata": {},
   "outputs": [
    {
     "data": {
      "text/plain": [
       "array([[1, 1, 1, 0, 1, 1, 1],\n",
       "       [1, 1, 1, 1, 0, 1, 0],\n",
       "       [0, 0, 0, 0, 0, 0, 1],\n",
       "       [0, 1, 1, 0, 0, 1, 1],\n",
       "       [0, 0, 1, 0, 0, 0, 1],\n",
       "       [1, 0, 1, 0, 0, 0, 0]])"
      ]
     },
     "execution_count": 5,
     "metadata": {},
     "output_type": "execute_result"
    }
   ],
   "source": [
    "cv = CountVectorizer(stop_words='english')\n",
    "F = cv.fit_transform(docs).toarray() # TF t-t-d matrix\n",
    "F"
   ]
  },
  {
   "cell_type": "code",
   "execution_count": 6,
   "id": "f01f5be6-f11f-4a0c-8b7d-0b4bc4a89f4a",
   "metadata": {},
   "outputs": [
    {
     "data": {
      "text/plain": [
       "array([[0.39626596, 0.39626596, 0.2932457 , 0.        , 0.57238026,\n",
       "        0.39626596, 0.33956982],\n",
       "       [0.4212992 , 0.4212992 , 0.31177086, 0.60853913, 0.        ,\n",
       "        0.4212992 , 0.        ],\n",
       "       [0.        , 0.        , 0.        , 0.        , 0.        ,\n",
       "        0.        , 1.        ],\n",
       "       [0.        , 0.5519934 , 0.40848751, 0.        , 0.        ,\n",
       "        0.5519934 , 0.47301641],\n",
       "       [0.        , 0.        , 0.65359543, 0.        , 0.        ,\n",
       "        0.        , 0.75684411],\n",
       "       [0.80383327, 0.        , 0.59485466, 0.        , 0.        ,\n",
       "        0.        , 0.        ]])"
      ]
     },
     "execution_count": 6,
     "metadata": {},
     "output_type": "execute_result"
    }
   ],
   "source": [
    "from sklearn.feature_extraction.text import TfidfVectorizer\n",
    "\n",
    "cv = TfidfVectorizer(stop_words='english')\n",
    "F = cv.fit_transform(docs).toarray() # TF-IDFa1 t-t-d matrix\n",
    "F"
   ]
  },
  {
   "cell_type": "code",
   "execution_count": 7,
   "id": "f0f51dab-a5f7-4934-b8ba-9bae4012348b",
   "metadata": {},
   "outputs": [
    {
     "data": {
      "text/plain": [
       "1.0"
      ]
     },
     "execution_count": 7,
     "metadata": {},
     "output_type": "execute_result"
    }
   ],
   "source": [
    "q = cv.transform(['romans caesar']).toarray() # Encode a query in the same t-t-d model\n",
    "np.linalg.norm(q)"
   ]
  },
  {
   "cell_type": "code",
   "execution_count": 8,
   "id": "c23476fd-cd5a-4a18-82bc-c70bb06eebf5",
   "metadata": {},
   "outputs": [
    {
     "name": "stdout",
     "output_type": "stream",
     "text": [
      "Fountain Canteen\n",
      "Skip to main content\n",
      "\n",
      "  * Courses\n",
      "  * Research\n",
      "  * Enterprise\n",
      "  * Sport\n",
      "  * Departments\n",
      "  * About\n",
      "\n",
      "  * _From_ Food and Drink \n",
      "\n",
      "# Fountain Canteen\n",
      "\n",
      "A food court below Parade serving fish and chips, Asian food, street food,\n",
      "value meals and more.\n",
      "\n",
      "  * Food and drink\n",
      "  * View more locations in Food and Drink \n",
      "\n",
      "Seating in Fountain Canteen\n",
      "\n",
      "# Address\n",
      "\n",
      "2 West University of Bath Claverton Down Bath BA2 7AY United Kingdom\n",
      "\n",
      "Find your way here using Google Maps\n",
      "\n",
      "# GPS coordinates\n",
      "\n",
      "Latitude 51.37946  \n",
      "Longitude -2.32839\n",
      "\n",
      "# Map for this location\n",
      "\n",
      "  \n",
      "View Larger Map\n",
      "\n",
      "# Additional information\n",
      "\n",
      "Everyone, including visitors, can use Fountain Canteen.\n",
      "\n",
      "Fountain Canteen has seating for 350 people.\n",
      "\n",
      "If you are a student you can pay here using your Eat and Drink credit.\n",
      "\n",
      "There are two microwaves located next to the Value Corner, which you can use\n",
      "to heat your own food.\n",
      "\n",
      "## Opening times\n",
      "\n",
      "View current opening times here.\n",
      "\n",
      "## Food and drink\n",
      "\n",
      "In Fountain Canteen, there's a Fish & Chip shop, Hot Wok offering noodles and\n",
      "a Value Corner which sells a selection of items from £1, such as soup, beans\n",
      "on toast and cakes. Get a free tea or coffee with every purchase if you bring\n",
      "your own reusable cup.\n",
      "\n",
      "### Munch Box - a food waste reduction initiative\n",
      "\n",
      "Students, staff and visitors to campus can bring their own container to and\n",
      "buy surplus food for just £2.50. This is available at the end of hot counter\n",
      "service until the food has ran out, from Monday to Friday at 2.20pm.\n",
      "\n",
      "# Accessibility\n",
      "\n",
      "Fountain Canteen is on the ground floor.\n",
      "\n",
      "Use the lift from the Parade to get to the Fountain Canteen. This is next to\n",
      "the rear entrance to Parade. The entrance to the Canteen has single-width\n",
      "automatic and assisted doors.\n",
      "\n",
      "Fountain Canteen has accessible toilets.\n",
      "\n",
      "Visit AccessAble for detailed information on Fountain Canteen's accessibility.\n",
      "\n",
      "# Opening times\n",
      "\n",
      "  * **Monday** 11.30am to 2.30pm\n",
      "  * **Tuesday** 11.30am to 2.30pm\n",
      "  * **Wednesday** 11.30am to 2.30pm\n",
      "  * **Thursday** 11.30am to 2.30pm\n",
      "  * **Friday** 11.30am to 2.30pm\n",
      "  * **Saturday** Closed\n",
      "  * **Sunday** Closed\n",
      "\n",
      "Opening times can vary due to holidays, staff absences and events. Use the\n",
      "link below for the most recent opening times.\n",
      "\n",
      "# Enquiries\n",
      "\n",
      "The Hospitality team catering@bath.ac.uk +44 (0)1225 385051\n",
      "\n",
      "(C) University of Bath 2023\n",
      "\n",
      "  * Disclaimer\n",
      "  * Freedom of information\n",
      "  * Modern slavery statement\n",
      "  * Privacy and cookie policy\n",
      "  * Staying COVID-19 Secure\n",
      "  * Transparency information\n",
      "  * Website accessibility statement\n",
      "\n",
      "\n"
     ]
    }
   ],
   "source": [
    "# Load a numpy compressed data file with a text of some Bath webpages\n",
    "file = np.load('BathPages.npz')\n",
    "titles = file[\"titles\"]\n",
    "docs = file[\"docs\"]\n",
    "\n",
    "cv = TfidfVectorizer(stop_words='english')\n",
    "F = cv.fit_transform(docs).toarray()\n",
    "\n",
    "q = cv.transform(['Food']).toarray()\n",
    "\n",
    "i = np.argmax(F @ q.T) # Most relevant document of the max cos similarity = min angle to the query\n",
    "print(titles[i])\n",
    "print(docs[i])"
   ]
  }
 ],
 "metadata": {
  "kernelspec": {
   "display_name": "Python 3 (ipykernel)",
   "language": "python",
   "name": "python3"
  },
  "language_info": {
   "codemirror_mode": {
    "name": "ipython",
    "version": 3
   },
   "file_extension": ".py",
   "mimetype": "text/x-python",
   "name": "python",
   "nbconvert_exporter": "python",
   "pygments_lexer": "ipython3",
   "version": "3.11.9"
  }
 },
 "nbformat": 4,
 "nbformat_minor": 5
}
