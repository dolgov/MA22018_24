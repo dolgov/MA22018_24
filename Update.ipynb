{
 "cells": [
  {
   "attachments": {
    "8a30b695-a5e6-4696-a830-330fbe42edf4.png": {
     "image/png": "[encoded data removed]"
    }
   },
   "cell_type": "markdown",
   "id": "c617c9b5-4a2e-49cb-98fe-a0392f3c4187",
   "metadata": {},
   "source": [
    "# MA22018\n",
    "MA22018 Machine Learning 1 Jupyter materials (S1 2024)\n",
    "\n",
    "**Run this notebook regularly (at least once a week) to download new materials into this folder.**\n",
    "\n",
    "For this, click the ![toolbar.png](attachment:8a30b695-a5e6-4696-a830-330fbe42edf4.png) (Restart the kernel and run all cells) button above."
   ]
  },
  {
   "cell_type": "code",
   "execution_count": 1,
   "id": "6a26f502-7005-4c91-88f1-afb621ae09b4",
   "metadata": {},
   "outputs": [
    {
     "name": "stdout",
     "output_type": "stream",
     "text": [
      "Already up to date.\n"
     ]
    }
   ],
   "source": [
    "!git pull -f"
   ]
  }
 ],
 "metadata": {
  "kernelspec": {
   "display_name": "Python 3 (ipykernel)",
   "language": "python",
   "name": "python3"
  },
  "language_info": {
   "codemirror_mode": {
    "name": "ipython",
    "version": 3
   },
   "file_extension": ".py",
   "mimetype": "text/x-python",
   "name": "python",
   "nbconvert_exporter": "python",
   "pygments_lexer": "ipython3",
   "version": "3.11.9"
  }
 },
 "nbformat": 4,
 "nbformat_minor": 5
}
