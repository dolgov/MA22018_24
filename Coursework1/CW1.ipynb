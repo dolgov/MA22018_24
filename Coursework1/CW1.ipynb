{
 "cells": [
  {
   "cell_type": "markdown",
   "metadata": {},
   "source": [
    "# MA22018 Coursework 1"
   ]
  },
  {
   "cell_type": "code",
   "execution_count": 1,
   "metadata": {},
   "outputs": [],
   "source": [
    "import numpy as np\n",
    "import matplotlib.pyplot as plt\n",
    "import scipy\n",
    "\n",
    "def test_expsim():\n",
    "    X = np.array([[1]])\n",
    "    assert expsim(X) == 1, \"Wrong expsim output for 1x1 matrix\"\n",
    "    X = np.array([[1,0]])\n",
    "    assert expsim(X) == 1, \"Wrong expsim output for 2x1 matrix\"\n",
    "    X = np.array([[1,0], [1,1]])\n",
    "    assert np.allclose(expsim(X), np.exp(np.eye(2,2)-1)), \"Wrong expsim output for 2x2 matrix\"\n",
    "    X = np.array([[1,0], [1,1], [0,2]])\n",
    "    assert np.allclose(expsim(X), np.exp(-np.array([[0,1,5], [1,0,2], [5,2,0]]))), \"Wrong expsim output for 3x2 matrix\"\n",
    "    X = np.array([[1,1,0], [0,1,1]])\n",
    "    assert np.allclose(expsim(X), np.exp(-np.array([[0,2], [2,0]]))), \"Wrong expsim output for 2x3 matrix\"\n",
    "\n",
    "def test_spectral_features():\n",
    "    A = np.array([[0,1], [1,0]])\n",
    "    U = spectral_features(A, 1)\n",
    "    assert np.allclose(U/U[0], np.ones((2,1))), \"Wrong spectral_features output for zero eigenvalue of graph *-*\"\n",
    "    U = spectral_features(A, 2)\n",
    "    assert np.allclose(U.T @ U, np.eye(2,2)), \"Wrong B-orthonormality of spectral_features of graph *-*\"\n",
    "    assert np.allclose(A @ U, U @ np.diag(np.diag(U.T @ A @ U))), \"Large residual of spectral_features of graph *-*\"\n",
    "    A = np.array([[0,1,0], [1,0,1], [0,1,0]])\n",
    "    U = spectral_features(A, 2)\n",
    "    assert np.allclose(U.T @ np.diag([1,2,1]) @ U, np.eye(2,2)), \"Wrong B-orthonormality of spectral_features of graph *-*-*\"\n",
    "    assert np.allclose(A @ U, np.diag([1,2,1]) @ U @ np.diag(np.diag(U.T @ A @ U))), \"Large residual of spectral_features of graph *-*-*\""
   ]
  }
 ],
 "metadata": {
  "kernelspec": {
   "display_name": "base",
   "language": "python",
   "name": "python3"
  },
  "language_info": {
   "codemirror_mode": {
    "name": "ipython",
    "version": 3
   },
   "file_extension": ".py",
   "mimetype": "text/x-python",
   "name": "python",
   "nbconvert_exporter": "python",
   "pygments_lexer": "ipython3",
   "version": "3.12.4"
  }
 },
 "nbformat": 4,
 "nbformat_minor": 2
}
